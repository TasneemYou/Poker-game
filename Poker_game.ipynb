{
 "cells": [
  {
   "cell_type": "markdown",
   "metadata": {},
   "source": [
    "# Python Programming Challenge\n",
    "\n",
    "## Poker Hand\n",
    "\n",
    "In this challenge, we have to determine which kind of Poker combination is present in a deck of 5 cards. Every card is a string containing the card value **with the upper-case initial for face-cards** and the **lower-case initial for the suit**, as seen in the examples below:\n",
    "\n",
    "> \"Ah\" ➞ Ace of hearts <br>\n",
    "> \"Ks\" ➞ King of spades<br>\n",
    "> \"3d\" ➞ Three of diamonds<br>\n",
    "> \"Qc\" ➞ Queen of clubs <br>\n",
    "\n",
    "There are 10 different combinations. Here's the list, in descending order of importance:"
   ]
  },
  {
   "cell_type": "markdown",
   "metadata": {},
   "source": [
    "| Name            | Description                                         |\n",
    "|-----------------|-----------------------------------------------------|\n",
    "| Royal Flush     | A, K, Q, J, 10, all with the same suit.             |\n",
    "| Straight Flush  | Five cards in sequence, all with the same suit.     |\n",
    "| Four of a Kind  | Four cards of the same rank.                        |\n",
    "| Full House      | Three of a Kind with a Pair.                        |\n",
    "| Flush           | Any five cards of the same suit, not in sequence    |\n",
    "| Straight        | Five cards in a sequence, but not of the same suit. |\n",
    "| Three of a Kind | Three cards of the same rank.                       |\n",
    "| Two Pair        | Two different Pairs.                                |\n",
    "| Pair            | Two cards of the same rank.                         |\n",
    "| High Card       | No other valid combination.                         |\n",
    "\n",
    "---------"
   ]
  },
  {
   "cell_type": "markdown",
   "metadata": {},
   "source": [
    "#### 1. Given a list `hand` containing five strings being the cards. Implement a function called `poker_hand_ranking` that **returns a string with the name of the highest combination obtained.** According to the table above.\n",
    "\n",
    "**Examples:**\n",
    "\n",
    "> poker_hand_ranking([\"10h\", \"Jh\", \"Qh\", \"Ah\", \"Kh\"]) ➞ \"Royal Flush\"<br>\n",
    "> poker_hand_ranking([\"3h\", \"5h\", \"Qs\", \"9h\", \"Ad\"]) ➞ \"High Card\"<br>\n",
    "> poker_hand_ranking([\"10s\", \"10c\", \"8d\", \"10d\", \"10h\"]) ➞ \"Four of a Kind\"<br>"
   ]
  },
  {
   "cell_type": "code",
   "execution_count": 5,
   "metadata": {},
   "outputs": [],
   "source": [
    "def poker_hand_ranking(lst):\n",
    "\n",
    "    from collections import Counter\n",
    "    \n",
    "    list_facecard_all = ['K','Q','J','10','9','8','7','6','5','4','3','2','A']\n",
    "    i=0\n",
    "    j=5\n",
    "    list_of_sets=[]\n",
    "    while i<9 and j < 13:\n",
    "        seq_set = set()\n",
    "        seq_set.update(list_facecard_all[i:j])\n",
    "        i+=1\n",
    "        j+=1\n",
    "        list_of_sets.append(seq_set)\n",
    "\n",
    "    \n",
    "    list_suit=[]\n",
    "    list_facecard=[]\n",
    "    for x in lst:\n",
    "        list_suit.append(x[-1])\n",
    "        list_facecard.append(x[:len(x)-1])\n",
    "    \n",
    "    facecard_set=set()\n",
    "    facecard_set.update(list_facecard)\n",
    "    #print(facecard_set)\n",
    "    #print(list_of_sets)\n",
    "\n",
    "    count_suit = Counter(list_suit)\n",
    "    count_facecard = Counter(list_facecard)\n",
    "    #print(count_facecard.most_common())\n",
    "   \n",
    "\n",
    "    if count_suit.most_common()[0][1]==5 and set(list_facecard) <= ({'A','K','Q','J','10'}):\n",
    "        return \"Royal Flush\"\n",
    "\n",
    "    elif count_suit.most_common()[0][1] == 5 and (facecard_set <= list_of_sets[0]\\\n",
    "        or facecard_set <= list_of_sets[1] or facecard_set <= list_of_sets[2]\\\n",
    "        or facecard_set <= list_of_sets[3] or facecard_set <= list_of_sets[4]\\\n",
    "        or facecard_set <= list_of_sets[5] or facecard_set <= list_of_sets[6]\\\n",
    "        or facecard_set <= list_of_sets[7]):\n",
    "        return \"Straight Flush\" \n",
    "\n",
    "    elif count_facecard.most_common()[0][1] == 4:\n",
    "        return \"Four of a Kind\"\n",
    "    \n",
    "    elif count_facecard.most_common()[0][1] == 3 and count_facecard.most_common()[1][1] == 2:\n",
    "        return \"Full House\"\n",
    "    \n",
    "    elif count_suit.most_common()[0][1]==5:\n",
    "        return \"Flush\"\n",
    "    \n",
    "    elif facecard_set <= list_of_sets[0]\\\n",
    "        or facecard_set <= list_of_sets[1] or facecard_set <= list_of_sets[2]\\\n",
    "        or facecard_set <= list_of_sets[3] or facecard_set <= list_of_sets[4]\\\n",
    "        or facecard_set <= list_of_sets[5] or facecard_set <= list_of_sets[6]\\\n",
    "        or facecard_set <= list_of_sets[7]:\n",
    "        return \"Straight\"\n",
    "\n",
    "    elif count_facecard.most_common()[0][1] == 3:\n",
    "        return \"Three of a Kind\"\n",
    "    \n",
    "    elif count_facecard.most_common()[0][1] == 2 and count_facecard.most_common()[1][1] == 2:\n",
    "        return \"Two Pair\"\n",
    "\n",
    "    elif count_facecard.most_common()[0][1] == 2:\n",
    "        return \"Pair\"\n",
    "    \n",
    "    else:\n",
    "        return \"High Card\"\n"
   ]
  },
  {
   "cell_type": "code",
   "execution_count": 100,
   "metadata": {},
   "outputs": [
    {
     "name": "stdout",
     "output_type": "stream",
     "text": [
      "Royal Flush\n"
     ]
    }
   ],
   "source": [
    "comb=poker_hand_ranking([\"10h\", \"Jh\", \"Qh\", \"Ah\", \"Kh\"])\n",
    "print(comb)\n"
   ]
  },
  {
   "cell_type": "code",
   "execution_count": 101,
   "metadata": {},
   "outputs": [
    {
     "name": "stdout",
     "output_type": "stream",
     "text": [
      "Straight Flush\n"
     ]
    }
   ],
   "source": [
    "comb=poker_hand_ranking([\"5h\", \"4h\", \"6h\", \"3h\", \"2h\"])\n",
    "\n",
    "print(comb)"
   ]
  },
  {
   "cell_type": "code",
   "execution_count": 102,
   "metadata": {},
   "outputs": [
    {
     "name": "stdout",
     "output_type": "stream",
     "text": [
      "Four of a Kind\n"
     ]
    }
   ],
   "source": [
    "comb = poker_hand_ranking([\"10s\", \"10c\", \"8d\", \"10d\", \"10h\"])\n",
    "print(comb)"
   ]
  },
  {
   "cell_type": "code",
   "execution_count": 103,
   "metadata": {},
   "outputs": [
    {
     "name": "stdout",
     "output_type": "stream",
     "text": [
      "High Card\n"
     ]
    }
   ],
   "source": [
    "comb = poker_hand_ranking([\"3h\", \"5h\", \"Qs\", \"9h\", \"Ad\"])\n",
    "print(comb)"
   ]
  },
  {
   "cell_type": "markdown",
   "metadata": {},
   "source": [
    "------------\n",
    "### **Stretch Content**\n",
    "\n",
    "#### 2.  Implement a function `winner_is` that returns the winner given a dictionary with different players and their hands. \n",
    "**Example**\n",
    "\n",
    "We define dictionary like\n",
    "```python\n",
    "round_1 = {\"John\" = [\"10h\", \"Jh\", \"Qh\", \"Ah\", \"Kh\"], \n",
    "        \"Peter\" = [\"3h\", \"5h\", \"Qs\", \"9h\", \"Ad\"]}\n",
    "```\n",
    "\n",
    "Our function returns the name of the winner:\n",
    "> winner_is(round_1) --> \"John\"\n",
    "\n",
    "One table can have up to 10 players.\n"
   ]
  },
  {
   "cell_type": "code",
   "execution_count": 6,
   "metadata": {},
   "outputs": [],
   "source": [
    "def winner_is(round_1):\n",
    "    consult_me = {'Royal Flush':1, 'Straight Flush':2, 'Four of a Kind':3, 'Full House':4, 'Flush':5,\\\n",
    "                  'Straight':6, 'Three of a Kind':7, 'Two Pair':8, 'Pair':9, 'High Card':10}\n",
    "    #round_1 = {\"John\": [\"10h\", \"Jh\", \"Qh\", \"Ah\", \"Kh\"], \"Peter\" : [\"3h\", \"5h\", \"Qs\", \"9h\", \"Ad\"]}\n",
    "\n",
    "    list_of_combs=[]\n",
    "    \n",
    "    for k,v in round_1.items():\n",
    "        comb = poker_hand_ranking(v)\n",
    "        list_of_combs.append(consult_me[comb])\n",
    "        round_1[k] = consult_me[comb]\n",
    "        \n",
    "    win = min(list_of_combs)\n",
    "    \n",
    "    for k,v in round_1.items():\n",
    "        if v == win:\n",
    "            return k      \n",
    "    "
   ]
  },
  {
   "cell_type": "code",
   "execution_count": 8,
   "metadata": {},
   "outputs": [
    {
     "data": {
      "text/plain": [
       "'Peter'"
      ]
     },
     "execution_count": 8,
     "metadata": {},
     "output_type": "execute_result"
    }
   ],
   "source": [
    "round_1 = {\"John\": [\"3h\", \"5h\", \"Qs\", \"9h\", \"Ad\"], \"Peter\" : [\"10s\", \"10c\", \"8d\", \"10d\", \"10h\"]}\n",
    "winner_is(round_1)"
   ]
  },
  {
   "cell_type": "markdown",
   "metadata": {},
   "source": [
    "#### 3. Create a function `distribute_cards` that randomly generates and gives 5 cards to every player given a list of player names.\n",
    "\n",
    "**Example**\n",
    "\n",
    "> distribute_cards([\"John\",\"Peter\"])  -> round_1 = {\"John\" = [\"10h\", \"Jh\", \"Qh\", \"Ah\", \"Kh\"], \n",
    "        \"Peter\" = [\"3h\", \"5h\", \"Qs\", \"9h\", \"Ad\"]\n",
    "}"
   ]
  },
  {
   "cell_type": "code",
   "execution_count": 23,
   "metadata": {},
   "outputs": [],
   "source": [
    "import itertools\n",
    "import random\n",
    "\n",
    "def distribute_cards(lst_players):\n",
    "    \n",
    "    all_cards=[['K','Q','J','10','9','8','7','6','5','4','3','2','A'],['h', 'd', 'c', 's']]\n",
    "    super_list_all_cards = []\n",
    "    for element in itertools.product(*all_cards):\n",
    "        super_list_all_cards.append(element)\n",
    "    \n",
    "    super_list_all_cards_1 =[i[0]+i[1] for i in super_list_all_cards]\n",
    "    #print(super_list_all_cards_1)\n",
    "    new_dict={}\n",
    "\n",
    "    for i in lst_players:\n",
    "        j=0\n",
    "        list_of_cards=[]\n",
    "        while j<5:\n",
    "            card = random.choice(super_list_all_cards_1)\n",
    "            list_of_cards.append(card)\n",
    "            super_list_all_cards_1.remove(card)\n",
    "            j+=1\n",
    "        new_dict[i]=list_of_cards\n",
    "        \n",
    "    return new_dict\n",
    "            \n",
    "    "
   ]
  },
  {
   "cell_type": "code",
   "execution_count": 24,
   "metadata": {},
   "outputs": [
    {
     "data": {
      "text/plain": [
       "{'John': ['Qs', '2s', 'Jh', '7d', '7s'],\n",
       " 'Peter': ['Ks', '3d', '8c', '5h', 'Qh']}"
      ]
     },
     "execution_count": 24,
     "metadata": {},
     "output_type": "execute_result"
    }
   ],
   "source": [
    "distribute_cards([\"John\",\"Peter\"])"
   ]
  }
 ],
 "metadata": {
  "kernelspec": {
   "display_name": "Python 3 (ipykernel)",
   "language": "python",
   "name": "python3"
  },
  "language_info": {
   "codemirror_mode": {
    "name": "ipython",
    "version": 3
   },
   "file_extension": ".py",
   "mimetype": "text/x-python",
   "name": "python",
   "nbconvert_exporter": "python",
   "pygments_lexer": "ipython3",
   "version": "3.8.12"
  }
 },
 "nbformat": 4,
 "nbformat_minor": 4
}
